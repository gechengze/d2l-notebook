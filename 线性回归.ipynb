{
 "cells": [
  {
   "cell_type": "code",
   "execution_count": 1,
   "id": "14035506",
   "metadata": {},
   "outputs": [],
   "source": [
    "import random\n",
    "import torch\n",
    "from d2l import torch as d2l\n",
    "import plotly.express as px"
   ]
  },
  {
   "cell_type": "code",
   "execution_count": 13,
   "id": "5e11fc2e",
   "metadata": {},
   "outputs": [],
   "source": [
    "# 根据带有噪声的线性模型构造一个人造数据集\n",
    "def synthetic_data(w, b, num_examples):\n",
    "    X = torch.normal(0, 1, (num_examples, len(w)))\n",
    "    y = X @ w + b\n",
    "    y += torch.normal(0, 0.01, y.shape) # 0.01为噪声\n",
    "    return X, y.reshape((-1, 1))"
   ]
  },
  {
   "cell_type": "code",
   "execution_count": 18,
   "id": "ae24fb24",
   "metadata": {},
   "outputs": [],
   "source": [
    "# 定义一个data_iter函数，接受批量大小、特征矩阵、标签向量，生成大小为batch_size的小批量\n",
    "def data_iter(batch_size, features, labels):\n",
    "    num_examples = len(features)\n",
    "    indices = list(range(num_examples))\n",
    "    random.shuffle(indices) # 随机读取样本，没有顺序\n",
    "    for i in range(0, num_examples, batch_size):\n",
    "        batch_indices = torch.tensor(indices[i:min(i + batch_size, num_examples)])\n",
    "        yield features[batch_indices], labels[batch_indices]"
   ]
  },
  {
   "cell_type": "code",
   "execution_count": 19,
   "id": "5960ee0e",
   "metadata": {},
   "outputs": [],
   "source": [
    "# 定义模型\n",
    "def linreg(X, w ,b):\n",
    "    return X @ w + b"
   ]
  },
  {
   "cell_type": "code",
   "execution_count": 20,
   "id": "973914cd",
   "metadata": {},
   "outputs": [],
   "source": [
    "# 定义损失函数\n",
    "def squared_loss(y_hat, y):\n",
    "    return (y_hat - y.reshape(y_hat.shape)) ** 2 / 2"
   ]
  },
  {
   "cell_type": "code",
   "execution_count": 21,
   "id": "e182573e",
   "metadata": {},
   "outputs": [],
   "source": [
    "# 定义优化算法\n",
    "def sgd(params, lr, batch_size):\n",
    "    # 小批量随机梯度下降\n",
    "    with torch.no_grad():\n",
    "        for param in params:\n",
    "            param -= lr * param.grad / batch_size\n",
    "            param.grad.zero_()"
   ]
  },
  {
   "cell_type": "code",
   "execution_count": 36,
   "id": "f3b31481",
   "metadata": {},
   "outputs": [],
   "source": [
    "true_w = torch.tensor([2, -3.4, 4.6, 5])\n",
    "true_b = 2.2\n",
    "features, labels = synthetic_data(true_w, true_b, 2000)\n",
    "# px.scatter(x=X[:, 2].detach().numpy(), y=y.detach().numpy()[:, 0])"
   ]
  },
  {
   "cell_type": "code",
   "execution_count": 37,
   "id": "4d49df03",
   "metadata": {},
   "outputs": [
    {
     "data": {
      "text/plain": [
       "(tensor([[-4.1599e-03],\n",
       "         [-2.8797e-03],\n",
       "         [-6.0918e-05],\n",
       "         [ 8.0961e-04]], requires_grad=True),\n",
       " tensor([0.], requires_grad=True))"
      ]
     },
     "execution_count": 37,
     "metadata": {},
     "output_type": "execute_result"
    }
   ],
   "source": [
    "# 定义初始化模型参数\n",
    "w = torch.normal(0, 0.01, size=(4, 1), requires_grad=True)\n",
    "b = torch.zeros(1, requires_grad=True)\n",
    "w, b"
   ]
  },
  {
   "cell_type": "code",
   "execution_count": 41,
   "id": "0dbc0bce",
   "metadata": {},
   "outputs": [
    {
     "name": "stdout",
     "output_type": "stream",
     "text": [
      "epoch: 1 , loss: 4.978765718988143e-05\n",
      "epoch: 2 , loss: 4.9655765906209126e-05\n",
      "epoch: 3 , loss: 4.963951141689904e-05\n"
     ]
    }
   ],
   "source": [
    "# 训练过程\n",
    "lr = 0.02\n",
    "num_epochs = 3\n",
    "batch_size = 10\n",
    "net = linreg\n",
    "loss = squared_loss\n",
    "\n",
    "for epoch in range(num_epochs):\n",
    "    for X, y in data_iter(batch_size, features, labels):\n",
    "        l = loss(net(X, w, b), y) # X和y的小批量损失\n",
    "        # l的形状是(batch_size, 1),不是一个标量\n",
    "        l.sum().backward()\n",
    "        sgd([w, b], lr, batch_size) # 使用参数的梯度更新参数\n",
    "    with torch.no_grad():\n",
    "        train_l = loss(net(features, w, b), labels)\n",
    "        print('epoch:', epoch + 1, ', loss:', float(train_l.mean()))"
   ]
  },
  {
   "cell_type": "code",
   "execution_count": 42,
   "id": "001c099c",
   "metadata": {},
   "outputs": [
    {
     "data": {
      "text/plain": [
       "tensor([[ 2.0000],\n",
       "        [-3.4001],\n",
       "        [ 4.6001],\n",
       "        [ 5.0003]], requires_grad=True)"
      ]
     },
     "execution_count": 42,
     "metadata": {},
     "output_type": "execute_result"
    }
   ],
   "source": [
    "w"
   ]
  },
  {
   "cell_type": "code",
   "execution_count": 40,
   "id": "b5ccba45",
   "metadata": {},
   "outputs": [
    {
     "name": "stdout",
     "output_type": "stream",
     "text": [
      "tensor([-1.5688e-04,  3.3379e-05, -2.7132e-04, -7.0858e-04],\n",
      "       grad_fn=<SubBackward0>)\n",
      "tensor([-4.7922e-05], grad_fn=<RsubBackward1>)\n"
     ]
    }
   ],
   "source": [
    "# 查看训练出的参数和真实参数\n",
    "print(true_w - w.reshape(true_w.shape))\n",
    "print(true_b - b)"
   ]
  },
  {
   "cell_type": "code",
   "execution_count": 43,
   "id": "45f2d05d",
   "metadata": {},
   "outputs": [],
   "source": [
    "# 简洁实现\n",
    "import numpy as np\n",
    "import torch\n",
    "from torch.utils import data\n",
    "from d2l import torch as d2l"
   ]
  },
  {
   "cell_type": "code",
   "execution_count": 92,
   "id": "1c2b385c",
   "metadata": {},
   "outputs": [],
   "source": [
    "true_w = torch.rand(200)\n",
    "true_b = 4.2\n",
    "features, labels = d2l.synthetic_data(true_w, true_b, 10000)"
   ]
  },
  {
   "cell_type": "code",
   "execution_count": 93,
   "id": "00135931",
   "metadata": {},
   "outputs": [],
   "source": [
    "def load_array(data_arrays, batch_size, is_train=True):\n",
    "    dataset = data.TensorDataset(*data_arrays)\n",
    "    return data.DataLoader(dataset, batch_size, shuffle=is_train)"
   ]
  },
  {
   "cell_type": "code",
   "execution_count": 94,
   "id": "0128f27d",
   "metadata": {},
   "outputs": [],
   "source": [
    "batch_size = 10\n",
    "data_iter = load_array((features, labels), batch_size)"
   ]
  },
  {
   "cell_type": "code",
   "execution_count": 95,
   "id": "a9e3ff30",
   "metadata": {},
   "outputs": [],
   "source": [
    "from torch import nn"
   ]
  },
  {
   "cell_type": "code",
   "execution_count": 96,
   "id": "98d852c3",
   "metadata": {},
   "outputs": [],
   "source": [
    "net = nn.Sequential(nn.Linear(true_w.shape[0], 1))"
   ]
  },
  {
   "cell_type": "code",
   "execution_count": 97,
   "id": "6d131f99",
   "metadata": {},
   "outputs": [
    {
     "data": {
      "text/plain": [
       "tensor([0.])"
      ]
     },
     "execution_count": 97,
     "metadata": {},
     "output_type": "execute_result"
    }
   ],
   "source": [
    "net[0].weight.data.normal_(0, 0.01)\n",
    "net[0].bias.data.fill_(0)"
   ]
  },
  {
   "cell_type": "code",
   "execution_count": 98,
   "id": "faea6b3b",
   "metadata": {},
   "outputs": [],
   "source": [
    "loss = nn.MSELoss()\n",
    "trainer = torch.optim.SGD(net.parameters(), lr=0.01)"
   ]
  },
  {
   "cell_type": "code",
   "execution_count": 102,
   "id": "673771d3",
   "metadata": {},
   "outputs": [
    {
     "name": "stdout",
     "output_type": "stream",
     "text": [
      "epoch 1, loss  0.000123\n",
      "epoch 2, loss  0.000124\n",
      "epoch 3, loss  0.000123\n",
      "epoch 4, loss  0.000123\n"
     ]
    }
   ],
   "source": [
    "num_epochs = 4\n",
    "for epoch in range(num_epochs):\n",
    "    for X, y in data_iter:\n",
    "        l = loss(net(X), y)\n",
    "        trainer.zero_grad()\n",
    "        l.backward()\n",
    "        trainer.step()\n",
    "    l = loss(net(features), labels)\n",
    "    print(f'epoch {epoch + 1}, loss {l: f}')"
   ]
  },
  {
   "cell_type": "code",
   "execution_count": 103,
   "id": "0534aa55",
   "metadata": {},
   "outputs": [
    {
     "data": {
      "text/plain": [
       "tensor([0.9178, 0.9831, 0.6053, 0.1471, 0.8662, 0.2901, 0.5716, 0.2572, 0.8310,\n",
       "        0.2433, 0.9198, 0.2509, 0.3560, 0.9154, 0.0317, 0.9903, 0.4825, 0.0959,\n",
       "        0.7179, 0.5983, 0.4834, 0.5394, 0.8175, 0.9286, 0.4135, 0.3338, 0.2561,\n",
       "        0.1329, 0.6716, 0.5876, 0.3028, 0.9066, 0.9169, 0.2085, 0.4401, 0.9382,\n",
       "        0.4233, 0.6717, 0.2521, 0.1116, 0.8789, 0.6875, 0.1291, 0.7273, 0.6381,\n",
       "        0.0062, 0.6758, 0.3479, 0.4427, 0.6760, 0.8850, 0.7108, 0.0350, 0.8772,\n",
       "        0.2178, 0.1213, 0.8677, 0.7147, 0.3507, 0.4535, 0.3160, 0.8949, 0.3147,\n",
       "        0.3375, 0.6551, 0.1886, 0.9045, 0.7502, 0.1981, 0.2720, 0.8783, 0.6159,\n",
       "        0.7883, 0.4780, 0.1054, 0.3530, 0.6005, 0.1651, 0.5569, 0.6722, 0.3404,\n",
       "        0.5443, 0.9282, 0.3432, 0.2351, 0.5705, 0.9633, 0.0887, 0.1692, 0.4801,\n",
       "        0.7562, 0.5201, 0.7933, 0.5811, 0.8881, 0.7017, 0.3285, 0.4123, 0.6611,\n",
       "        0.4360, 0.2852, 0.1532, 0.0674, 0.0218, 0.8927, 0.8691, 0.1770, 0.3400,\n",
       "        0.7136, 0.5249, 0.0567, 0.6372, 0.8094, 0.6690, 0.4797, 0.4405, 0.6323,\n",
       "        0.4614, 0.2039, 0.6131, 0.5595, 0.8076, 0.2097, 0.3233, 0.8053, 0.0063,\n",
       "        0.1409, 0.7884, 0.1255, 0.0288, 0.9869, 0.3930, 0.7553, 0.7847, 0.1265,\n",
       "        0.2487, 0.2888, 0.1383, 0.8299, 0.9797, 0.8322, 0.8626, 0.4623, 0.7792,\n",
       "        0.1355, 0.4387, 0.0979, 0.3297, 0.9221, 0.4402, 0.1668, 0.2134, 0.7041,\n",
       "        0.5352, 0.3631, 0.3588, 0.5431, 0.4763, 0.1174, 0.3934, 0.1025, 0.1663,\n",
       "        0.3175, 0.5067, 0.9603, 0.7462, 0.3757, 0.6954, 0.9699, 0.0545, 0.5520,\n",
       "        0.7269, 0.9731, 0.5182, 0.3872, 0.7734, 0.5806, 0.6200, 0.7319, 0.2337,\n",
       "        0.7159, 0.8169, 0.7048, 0.0933, 0.9858, 0.5090, 0.7727, 0.6308, 0.2450,\n",
       "        0.0184, 0.3710, 0.8020, 0.5875, 0.8276, 0.1808, 0.4448, 0.4565, 0.3123,\n",
       "        0.1167, 0.2053])"
      ]
     },
     "execution_count": 103,
     "metadata": {},
     "output_type": "execute_result"
    }
   ],
   "source": [
    "true_w"
   ]
  },
  {
   "cell_type": "code",
   "execution_count": 104,
   "id": "89de115e",
   "metadata": {},
   "outputs": [
    {
     "data": {
      "text/plain": [
       "[{'params': [Parameter containing:\n",
       "   tensor([[0.9176, 0.9833, 0.6050, 0.1476, 0.8664, 0.2910, 0.5715, 0.2572, 0.8313,\n",
       "            0.2430, 0.9197, 0.2505, 0.3559, 0.9160, 0.0318, 0.9901, 0.4827, 0.0961,\n",
       "            0.7178, 0.5981, 0.4832, 0.5390, 0.8168, 0.9283, 0.4132, 0.3344, 0.2563,\n",
       "            0.1329, 0.6715, 0.5881, 0.3022, 0.9067, 0.9172, 0.2082, 0.4398, 0.9385,\n",
       "            0.4232, 0.6721, 0.2516, 0.1116, 0.8785, 0.6874, 0.1290, 0.7275, 0.6380,\n",
       "            0.0060, 0.6758, 0.3473, 0.4432, 0.6760, 0.8845, 0.7112, 0.0348, 0.8769,\n",
       "            0.2178, 0.1212, 0.8687, 0.7142, 0.3503, 0.4536, 0.3160, 0.8951, 0.3138,\n",
       "            0.3371, 0.6550, 0.1885, 0.9052, 0.7501, 0.1977, 0.2717, 0.8783, 0.6159,\n",
       "            0.7881, 0.4778, 0.1057, 0.3530, 0.6004, 0.1654, 0.5568, 0.6719, 0.3406,\n",
       "            0.5443, 0.9282, 0.3432, 0.2351, 0.5706, 0.9635, 0.0887, 0.1692, 0.4798,\n",
       "            0.7566, 0.5200, 0.7935, 0.5809, 0.8880, 0.7015, 0.3288, 0.4133, 0.6613,\n",
       "            0.4360, 0.2853, 0.1526, 0.0675, 0.0217, 0.8920, 0.8688, 0.1767, 0.3396,\n",
       "            0.7135, 0.5252, 0.0570, 0.6376, 0.8100, 0.6686, 0.4795, 0.4403, 0.6320,\n",
       "            0.4622, 0.2043, 0.6129, 0.5593, 0.8076, 0.2097, 0.3232, 0.8047, 0.0060,\n",
       "            0.1413, 0.7883, 0.1260, 0.0294, 0.9867, 0.3936, 0.7551, 0.7850, 0.1271,\n",
       "            0.2486, 0.2888, 0.1387, 0.8299, 0.9795, 0.8320, 0.8626, 0.4630, 0.7794,\n",
       "            0.1359, 0.4392, 0.0967, 0.3306, 0.9221, 0.4407, 0.1666, 0.2134, 0.7041,\n",
       "            0.5350, 0.3630, 0.3592, 0.5435, 0.4760, 0.1171, 0.3933, 0.1027, 0.1663,\n",
       "            0.3171, 0.5069, 0.9604, 0.7468, 0.3758, 0.6958, 0.9700, 0.0543, 0.5519,\n",
       "            0.7271, 0.9736, 0.5178, 0.3866, 0.7742, 0.5812, 0.6194, 0.7316, 0.2339,\n",
       "            0.7166, 0.8168, 0.7043, 0.0934, 0.9851, 0.5093, 0.7731, 0.6306, 0.2445,\n",
       "            0.0184, 0.3711, 0.8019, 0.5871, 0.8276, 0.1811, 0.4445, 0.4565, 0.3124,\n",
       "            0.1158, 0.2056]], requires_grad=True),\n",
       "   Parameter containing:\n",
       "   tensor([4.2000], requires_grad=True)],\n",
       "  'lr': 0.01,\n",
       "  'momentum': 0,\n",
       "  'dampening': 0,\n",
       "  'weight_decay': 0,\n",
       "  'nesterov': False}]"
      ]
     },
     "execution_count": 104,
     "metadata": {},
     "output_type": "execute_result"
    }
   ],
   "source": [
    "trainer.param_groups"
   ]
  },
  {
   "cell_type": "code",
   "execution_count": null,
   "id": "0a5ca505",
   "metadata": {},
   "outputs": [],
   "source": []
  }
 ],
 "metadata": {
  "kernelspec": {
   "display_name": "Python 3",
   "language": "python",
   "name": "python3"
  },
  "language_info": {
   "codemirror_mode": {
    "name": "ipython",
    "version": 3
   },
   "file_extension": ".py",
   "mimetype": "text/x-python",
   "name": "python",
   "nbconvert_exporter": "python",
   "pygments_lexer": "ipython3",
   "version": "3.8.8"
  }
 },
 "nbformat": 4,
 "nbformat_minor": 5
}
