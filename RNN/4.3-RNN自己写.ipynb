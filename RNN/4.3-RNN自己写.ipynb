{
 "cells": [
  {
   "cell_type": "code",
   "execution_count": 26,
   "id": "d2d00574",
   "metadata": {},
   "outputs": [],
   "source": [
    "import torch\n",
    "from torch import nn\n",
    "from d2l import d2l\n",
    "from torch.functional import F"
   ]
  },
  {
   "cell_type": "code",
   "execution_count": 57,
   "id": "7fe8d0f8",
   "metadata": {},
   "outputs": [],
   "source": [
    "class Model(nn.Module):\n",
    "    def __init__(self, vocab_size, hidden_size, num_layers=1):\n",
    "        super().__init__()\n",
    "        self.vocab_size = vocab_size\n",
    "        self.hidden_size = hidden_size\n",
    "        self.num_layers = num_layers\n",
    "        self.rnn = nn.RNN(self.vocab_size, self.hidden_size, self.num_layers)\n",
    "        self.linear = nn.Linear(self.hidden_size, self.vocab_size)\n",
    "        \n",
    "    def forward(self, inputs, state):\n",
    "        output, state = self.rnn(inputs, state)\n",
    "        return self.linear(output), state"
   ]
  },
  {
   "cell_type": "code",
   "execution_count": 70,
   "id": "614637c9",
   "metadata": {},
   "outputs": [],
   "source": [
    "device = torch.device('cuda:0')\n",
    "# device = torch.device('cpu')\n",
    "\n",
    "batch_size = 128\n",
    "num_steps = 10\n",
    "train_iter, vocab = d2l.load_data_time_machine(batch_size=batch_size,\n",
    "                                               num_steps=num_steps,\n",
    "                                               token_type='char')\n",
    "\n",
    "\n",
    "hidden_size = 1024\n",
    "vocab_size = len(vocab)\n",
    "num_layers = 4\n",
    "net = Model(vocab_size=vocab_size, hidden_size=hidden_size, num_layers=num_layers)\n",
    "net = net.to(device)"
   ]
  },
  {
   "cell_type": "code",
   "execution_count": 71,
   "id": "4ed241cd",
   "metadata": {},
   "outputs": [],
   "source": [
    "lr = 0.2\n",
    "num_epochs = 1000\n",
    "\n",
    "loss = nn.CrossEntropyLoss()\n",
    "trainer = torch.optim.SGD(net.parameters(), lr=lr)"
   ]
  },
  {
   "cell_type": "code",
   "execution_count": null,
   "id": "85de012f",
   "metadata": {},
   "outputs": [
    {
     "name": "stdout",
     "output_type": "stream",
     "text": [
      "epoch: 585 loss: 9.7203321456909183\r"
     ]
    }
   ],
   "source": [
    "for epoch in range(num_epochs):\n",
    "    state = None\n",
    "    for X_idx, y_idx in train_iter:\n",
    "        X = F.one_hot(X_idx.T, len(vocab)).to(torch.float32)\n",
    "        y = F.one_hot(y_idx.T, len(vocab)).to(torch.float32)\n",
    "        if state is None:\n",
    "            state = torch.zeros(num_layers, batch_size, hidden_size)\n",
    "        else:\n",
    "            state.detach_()\n",
    "\n",
    "        X = X.to(device)\n",
    "        y = y.to(device)\n",
    "        state = state.to(device)\n",
    "\n",
    "        y_hat, state = net(X, state)\n",
    "#         print(y.shape, y_hat.shape)\n",
    "    #     print(X.shape)\n",
    "    #     print(y.shape)\n",
    "    #     print(y_hat.shape)\n",
    "    #     print(state.shape)\n",
    "\n",
    "        l = loss(y_hat, y)\n",
    "        trainer.zero_grad()\n",
    "        l.backward()\n",
    "        trainer.step()\n",
    "        print('epoch:', epoch, 'loss:', l.item(), end='\\r')\n",
    "    #     break"
   ]
  },
  {
   "cell_type": "code",
   "execution_count": null,
   "id": "734531bc",
   "metadata": {},
   "outputs": [],
   "source": []
  },
  {
   "cell_type": "code",
   "execution_count": null,
   "id": "ef28ed77",
   "metadata": {},
   "outputs": [],
   "source": []
  }
 ],
 "metadata": {
  "kernelspec": {
   "display_name": "Python 3 (ipykernel)",
   "language": "python",
   "name": "python3"
  },
  "language_info": {
   "codemirror_mode": {
    "name": "ipython",
    "version": 3
   },
   "file_extension": ".py",
   "mimetype": "text/x-python",
   "name": "python",
   "nbconvert_exporter": "python",
   "pygments_lexer": "ipython3",
   "version": "3.9.7"
  }
 },
 "nbformat": 4,
 "nbformat_minor": 5
}
