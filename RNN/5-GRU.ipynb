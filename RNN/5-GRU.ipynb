{
 "cells": [
  {
   "cell_type": "code",
   "execution_count": 1,
   "id": "eb86110c",
   "metadata": {},
   "outputs": [],
   "source": [
    "import torch\n",
    "from torch import nn\n",
    "from torch.functional import F\n",
    "from d2l import d2l"
   ]
  },
  {
   "cell_type": "code",
   "execution_count": 2,
   "id": "affb01d1",
   "metadata": {},
   "outputs": [],
   "source": [
    "train_iter, vocab = d2l.load_data_time_machine(batch_size=32, num_steps=10, token_type='char')"
   ]
  },
  {
   "cell_type": "code",
   "execution_count": 7,
   "id": "c2536c38",
   "metadata": {},
   "outputs": [],
   "source": [
    "class Model(nn.Module):\n",
    "    def __init__(self, vocab_size, hidden_size):\n",
    "        super().__init__()\n",
    "        self.vocab_size = vocab_size\n",
    "        self.hidden_size = hidden_size\n",
    "        self.gru = nn.GRU(self.vocab_size, self.hidden_size)\n",
    "        self.linear = nn.Linear(self.hidden_size, self.vocab_size)\n",
    "        \n",
    "    def forward(self, X, state):\n",
    "        output, state = self.gru(X, state)\n",
    "        return self.linear(output), state"
   ]
  },
  {
   "cell_type": "code",
   "execution_count": 8,
   "id": "5a9f97d9",
   "metadata": {},
   "outputs": [],
   "source": [
    "hidden_size = 256\n",
    "net = Model(len(vocab), hidden_size)\n",
    "loss = nn.CrossEntropyLoss()\n",
    "\n",
    "trainer = torch.optim.SGD(net.parameters(), lr=0.5)"
   ]
  },
  {
   "cell_type": "code",
   "execution_count": 9,
   "id": "9e9dd8d3",
   "metadata": {},
   "outputs": [
    {
     "name": "stdout",
     "output_type": "stream",
     "text": [
      "epoch: 100 tensor(2.6597, grad_fn=<DivBackward1>)ensor(3.4670, grad_fn=<DivBackward1>)tensor(3.4063, grad_fn=<DivBackward1>)tensor(3.3242, grad_fn=<DivBackward1>)tensor(3.2430, grad_fn=<DivBackward1>)tensor(3.2892, grad_fn=<DivBackward1>)tensor(3.1065, grad_fn=<DivBackward1>)tensor(2.9025, grad_fn=<DivBackward1>)tensor(2.9098, grad_fn=<DivBackward1>)tensor(2.8162, grad_fn=<DivBackward1>)tensor(2.7776, grad_fn=<DivBackward1>)tensor(2.6474, grad_fn=<DivBackward1>)tensor(2.5623, grad_fn=<DivBackward1>)tensor(2.5469, grad_fn=<DivBackward1>)\r"
     ]
    }
   ],
   "source": [
    "for epoch in range(100):\n",
    "    state = torch.zeros(1, 32, hidden_size)\n",
    "    for X, y in train_iter:\n",
    "        X = F.one_hot(X.T, len(vocab)).to(torch.float32)\n",
    "        y = F.one_hot(y.T, len(vocab)).to(torch.float32)\n",
    "        state.detach_()\n",
    "        y_hat, state = net(X, state)\n",
    "    #     print(X.shape, y.shape, y_hat.shape, state.shape)\n",
    "        l = loss(y_hat, y)\n",
    "        print('epoch:', epoch + 1, l, end='\\r')\n",
    "        trainer.zero_grad()\n",
    "        l.backward()\n",
    "        trainer.step()"
   ]
  },
  {
   "cell_type": "code",
   "execution_count": null,
   "id": "036f06aa",
   "metadata": {},
   "outputs": [],
   "source": []
  },
  {
   "cell_type": "code",
   "execution_count": null,
   "id": "97824214",
   "metadata": {},
   "outputs": [],
   "source": []
  }
 ],
 "metadata": {
  "kernelspec": {
   "display_name": "Python 3 (ipykernel)",
   "language": "python",
   "name": "python3"
  },
  "language_info": {
   "codemirror_mode": {
    "name": "ipython",
    "version": 3
   },
   "file_extension": ".py",
   "mimetype": "text/x-python",
   "name": "python",
   "nbconvert_exporter": "python",
   "pygments_lexer": "ipython3",
   "version": "3.9.7"
  }
 },
 "nbformat": 4,
 "nbformat_minor": 5
}
