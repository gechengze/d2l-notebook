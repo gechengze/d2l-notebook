{
 "cells": [
  {
   "cell_type": "code",
   "execution_count": 1,
   "id": "53113126",
   "metadata": {},
   "outputs": [],
   "source": [
    "import torch\n",
    "from torch import nn\n",
    "from d2l import torch as d2l"
   ]
  },
  {
   "cell_type": "code",
   "execution_count": 2,
   "id": "e1b81316",
   "metadata": {},
   "outputs": [],
   "source": [
    "# 二维互相关运算\n",
    "def corr2d(X, K):\n",
    "    h, w = K.shape\n",
    "    Y = torch.zeros((X.shape[0] - h + 1, X.shape[1] - w + 1))\n",
    "    for i in range(Y.shape[0]):\n",
    "        for j in range(Y.shape[1]):\n",
    "            Y[i, j] = (X[i: i + h, j: j + w] * K).sum()\n",
    "    return Y"
   ]
  },
  {
   "cell_type": "code",
   "execution_count": 3,
   "id": "866d367a",
   "metadata": {},
   "outputs": [],
   "source": [
    "X = torch.tensor([[0.0, 1.0, 2.0], [3.0, 4.0, 5.0], [6.0, 7.0, 8.0]])\n",
    "K = torch.tensor([[0.0, 1.0], [2.0, 3.0]])"
   ]
  },
  {
   "cell_type": "code",
   "execution_count": 4,
   "id": "b844fc33",
   "metadata": {},
   "outputs": [
    {
     "data": {
      "text/plain": [
       "(tensor([[0., 1., 2.],\n",
       "         [3., 4., 5.],\n",
       "         [6., 7., 8.]]),\n",
       " tensor([[0., 1.],\n",
       "         [2., 3.]]))"
      ]
     },
     "execution_count": 4,
     "metadata": {},
     "output_type": "execute_result"
    }
   ],
   "source": [
    "X, K"
   ]
  },
  {
   "cell_type": "code",
   "execution_count": 5,
   "id": "0cf120bd",
   "metadata": {},
   "outputs": [
    {
     "data": {
      "text/plain": [
       "tensor([[19., 25.],\n",
       "        [37., 43.]])"
      ]
     },
     "execution_count": 5,
     "metadata": {},
     "output_type": "execute_result"
    }
   ],
   "source": [
    "corr2d(X, K)"
   ]
  },
  {
   "cell_type": "code",
   "execution_count": null,
   "id": "8b1fc54f",
   "metadata": {},
   "outputs": [],
   "source": []
  },
  {
   "cell_type": "code",
   "execution_count": null,
   "id": "c2e566bf",
   "metadata": {},
   "outputs": [],
   "source": []
  },
  {
   "cell_type": "code",
   "execution_count": 7,
   "id": "e66d47e0",
   "metadata": {},
   "outputs": [],
   "source": [
    "class Conv2D(nn.Module):\n",
    "    def __init__(self, kernel_size):\n",
    "        super().__init__()\n",
    "        self.weight = nn.Parameter(torch.rand(kernel_size))\n",
    "        self.bias = nn.Parameter(torch.zeros(1))\n",
    "        \n",
    "    def forward(self, X):\n",
    "        return corr2d(X, self.weight) + self.bias"
   ]
  },
  {
   "cell_type": "code",
   "execution_count": 14,
   "id": "36498e7b",
   "metadata": {},
   "outputs": [
    {
     "data": {
      "text/plain": [
       "tensor([[1., 1., 0., 0., 0., 0., 1., 1.],\n",
       "        [1., 1., 0., 0., 0., 0., 1., 1.],\n",
       "        [1., 1., 0., 0., 0., 0., 1., 1.],\n",
       "        [1., 1., 0., 0., 0., 0., 1., 1.],\n",
       "        [1., 1., 0., 0., 0., 0., 1., 1.],\n",
       "        [1., 1., 0., 0., 0., 0., 1., 1.]])"
      ]
     },
     "execution_count": 14,
     "metadata": {},
     "output_type": "execute_result"
    }
   ],
   "source": [
    "X = torch.ones((6, 8))\n",
    "X[:, 2:6] = 0\n",
    "X"
   ]
  },
  {
   "cell_type": "code",
   "execution_count": 25,
   "id": "5dbc4f6f",
   "metadata": {},
   "outputs": [
    {
     "data": {
      "text/plain": [
       "tensor([[ 1., -1.]])"
      ]
     },
     "execution_count": 25,
     "metadata": {},
     "output_type": "execute_result"
    }
   ],
   "source": [
    "K = torch.tensor([[1.0, -1.0]])\n",
    "K"
   ]
  },
  {
   "cell_type": "code",
   "execution_count": 26,
   "id": "1107ef85",
   "metadata": {},
   "outputs": [
    {
     "data": {
      "text/plain": [
       "tensor([[ 0.,  1.,  0.,  0.,  0., -1.,  0.],\n",
       "        [ 0.,  1.,  0.,  0.,  0., -1.,  0.],\n",
       "        [ 0.,  1.,  0.,  0.,  0., -1.,  0.],\n",
       "        [ 0.,  1.,  0.,  0.,  0., -1.,  0.],\n",
       "        [ 0.,  1.,  0.,  0.,  0., -1.,  0.],\n",
       "        [ 0.,  1.,  0.,  0.,  0., -1.,  0.]])"
      ]
     },
     "execution_count": 26,
     "metadata": {},
     "output_type": "execute_result"
    }
   ],
   "source": [
    "Y = corr2d(X, K)\n",
    "Y"
   ]
  },
  {
   "cell_type": "code",
   "execution_count": 27,
   "id": "8a820b60",
   "metadata": {},
   "outputs": [
    {
     "data": {
      "text/plain": [
       "(tensor([[[[1., 1., 0., 0., 0., 0., 1., 1.],\n",
       "           [1., 1., 0., 0., 0., 0., 1., 1.],\n",
       "           [1., 1., 0., 0., 0., 0., 1., 1.],\n",
       "           [1., 1., 0., 0., 0., 0., 1., 1.],\n",
       "           [1., 1., 0., 0., 0., 0., 1., 1.],\n",
       "           [1., 1., 0., 0., 0., 0., 1., 1.]]]]),\n",
       " tensor([[[[ 0.,  1.,  0.,  0.,  0., -1.,  0.],\n",
       "           [ 0.,  1.,  0.,  0.,  0., -1.,  0.],\n",
       "           [ 0.,  1.,  0.,  0.,  0., -1.,  0.],\n",
       "           [ 0.,  1.,  0.,  0.,  0., -1.,  0.],\n",
       "           [ 0.,  1.,  0.,  0.,  0., -1.,  0.],\n",
       "           [ 0.,  1.,  0.,  0.,  0., -1.,  0.]]]]))"
      ]
     },
     "execution_count": 27,
     "metadata": {},
     "output_type": "execute_result"
    }
   ],
   "source": [
    "conv2d = nn.Conv2d(1, 1, kernel_size=(1, 2), bias=False)\n",
    "X = X.reshape((1, 1, 6, 8))\n",
    "Y = Y.reshape((1, 1, 6, 7))\n",
    "X, Y"
   ]
  },
  {
   "cell_type": "code",
   "execution_count": 30,
   "id": "70ee30b5",
   "metadata": {
    "scrolled": true
   },
   "outputs": [
    {
     "name": "stdout",
     "output_type": "stream",
     "text": [
      "batch 1, loss  0.18\n",
      "batch 2, loss  0.11\n",
      "batch 3, loss  0.07\n",
      "batch 4, loss  0.05\n",
      "batch 5, loss  0.03\n",
      "batch 6, loss  0.02\n",
      "batch 7, loss  0.01\n",
      "batch 8, loss  0.01\n",
      "batch 9, loss  0.00\n",
      "batch 10, loss  0.00\n",
      "batch 11, loss  0.00\n",
      "batch 12, loss  0.00\n",
      "batch 13, loss  0.00\n",
      "batch 14, loss  0.00\n",
      "batch 15, loss  0.00\n",
      "batch 16, loss  0.00\n",
      "batch 17, loss  0.00\n",
      "batch 18, loss  0.00\n",
      "batch 19, loss  0.00\n",
      "batch 20, loss  0.00\n"
     ]
    }
   ],
   "source": [
    "for i in range(20):\n",
    "    Y_hat = conv2d(X)\n",
    "    l = (Y_hat - Y) ** 2\n",
    "    conv2d.zero_grad()\n",
    "    l.sum().backward()\n",
    "    conv2d.weight.data[:] -= 3e-2 * conv2d.weight.grad\n",
    "    print(f'batch {i + 1}, loss {l.sum(): .2f}')"
   ]
  },
  {
   "cell_type": "code",
   "execution_count": 33,
   "id": "a2796a41",
   "metadata": {},
   "outputs": [
    {
     "data": {
      "text/plain": [
       "Parameter containing:\n",
       "tensor([[[[ 1.0006, -0.9994]]]], requires_grad=True)"
      ]
     },
     "execution_count": 33,
     "metadata": {},
     "output_type": "execute_result"
    }
   ],
   "source": [
    "conv2d.weight"
   ]
  },
  {
   "cell_type": "code",
   "execution_count": 56,
   "id": "5914e662",
   "metadata": {},
   "outputs": [
    {
     "data": {
      "text/plain": [
       "(torch.Size([1, 1, 8, 8]), torch.Size([1, 1, 6, 6]))"
      ]
     },
     "execution_count": 56,
     "metadata": {},
     "output_type": "execute_result"
    }
   ],
   "source": [
    "# 填充\n",
    "conv2d_1 = nn.Conv2d(1, 1, kernel_size=3, padding=1)\n",
    "conv2d_2 = nn.Conv2d(1, 1, kernel_size=3, padding=0)\n",
    "\n",
    "X = torch.rand((8, 8)).reshape(1, 1, 8, 8)\n",
    "Y1 = conv2d_1(X)\n",
    "Y2 = conv2d_2(X)\n",
    "Y1.shape, Y2.shape"
   ]
  },
  {
   "cell_type": "code",
   "execution_count": 65,
   "id": "a172a9a6",
   "metadata": {},
   "outputs": [
    {
     "name": "stdout",
     "output_type": "stream",
     "text": [
      "torch.Size([1, 1, 4, 4])\n",
      "torch.Size([1, 1, 2, 2])\n",
      "torch.Size([1, 1, 4, 3])\n"
     ]
    }
   ],
   "source": [
    "# 步幅\n",
    "conv2d = nn.Conv2d(1, 1, kernel_size=3, padding=1, stride=2)\n",
    "Y = conv2d(X)\n",
    "print(Y.shape)\n",
    "\n",
    "conv2d = nn.Conv2d(1, 1, kernel_size=3, padding=1, stride=4)\n",
    "Y = conv2d(X)\n",
    "print(Y.shape)\n",
    "\n",
    "conv2d = nn.Conv2d(1, 1, kernel_size=(1, 3), padding=(0, 1), stride=(2, 3))\n",
    "Y = conv2d(X)\n",
    "print(Y.shape)"
   ]
  },
  {
   "cell_type": "code",
   "execution_count": null,
   "id": "e6f5dee9",
   "metadata": {},
   "outputs": [],
   "source": []
  }
 ],
 "metadata": {
  "kernelspec": {
   "display_name": "Python 3 (ipykernel)",
   "language": "python",
   "name": "python3"
  },
  "language_info": {
   "codemirror_mode": {
    "name": "ipython",
    "version": 3
   },
   "file_extension": ".py",
   "mimetype": "text/x-python",
   "name": "python",
   "nbconvert_exporter": "python",
   "pygments_lexer": "ipython3",
   "version": "3.9.7"
  }
 },
 "nbformat": 4,
 "nbformat_minor": 5
}
