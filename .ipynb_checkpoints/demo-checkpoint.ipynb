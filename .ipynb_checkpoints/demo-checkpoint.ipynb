{
 "cells": [
  {
   "cell_type": "code",
   "execution_count": 1,
   "id": "e97d7e2d",
   "metadata": {},
   "outputs": [],
   "source": [
    "import torch\n",
    "from torch import nn\n",
    "\n",
    "class Conv2D(nn.Module):\n",
    "    def __init__(self, kernel_size):\n",
    "        super().__init__()\n",
    "        self.weight = nn.Parameter(torch.randn(kernel_size))\n",
    "        self.bias = nn.Parameter(torch.zeros(1))\n",
    "\n",
    "    def forward(self, x):\n",
    "        return self.corr2d(x, self.weight) + self.bias\n",
    "\n",
    "    def corr2d(self, X, K):  #@save\n",
    "        \"\"\"计算二维互相关运算\"\"\"\n",
    "        h, w = K.shape\n",
    "        Y = torch.zeros((X.shape[0] - h + 1, X.shape[1] - w + 1))\n",
    "        for i in range(Y.shape[0]):\n",
    "            for j in range(Y.shape[1]):\n",
    "                Y[i, j] = (X[i:i + h, j:j + w] * K).sum()\n",
    "        return Y"
   ]
  },
  {
   "cell_type": "code",
   "execution_count": 2,
   "id": "6a15fbec",
   "metadata": {},
   "outputs": [
    {
     "data": {
      "text/plain": [
       "(Parameter containing:\n",
       " tensor([[-0.3951, -1.4532, -0.2188,  0.7921],\n",
       "         [ 1.2442,  0.6144,  0.8063,  0.3962],\n",
       "         [ 0.5998,  0.3292,  0.4099, -1.8171],\n",
       "         [ 0.6626, -0.3883, -0.2411,  1.0475]], requires_grad=True),\n",
       " Parameter containing:\n",
       " tensor([0.], requires_grad=True))"
      ]
     },
     "execution_count": 2,
     "metadata": {},
     "output_type": "execute_result"
    }
   ],
   "source": [
    "conv = Conv2D((4, 4))\n",
    "conv.weight, conv.bias"
   ]
  },
  {
   "cell_type": "code",
   "execution_count": 3,
   "id": "c63b0a8b",
   "metadata": {},
   "outputs": [],
   "source": [
    "x1 = torch.randn((16, 16))"
   ]
  },
  {
   "cell_type": "code",
   "execution_count": 4,
   "id": "501a2dac",
   "metadata": {},
   "outputs": [],
   "source": [
    "x2 = conv.forward(x1)\n",
    "x3 = conv.forward(x2)\n",
    "x4 = conv.forward(x3)"
   ]
  },
  {
   "cell_type": "code",
   "execution_count": 5,
   "id": "3b847b38",
   "metadata": {},
   "outputs": [
    {
     "data": {
      "text/plain": [
       "torch.Size([7, 7])"
      ]
     },
     "execution_count": 5,
     "metadata": {},
     "output_type": "execute_result"
    }
   ],
   "source": [
    "x4.shape"
   ]
  },
  {
   "cell_type": "code",
   "execution_count": 6,
   "id": "b7dace54",
   "metadata": {},
   "outputs": [
    {
     "data": {
      "text/plain": [
       "tensor([[1.6959, 1.7846, 1.4224],\n",
       "        [1.9546, 1.4534, 1.1506],\n",
       "        [1.8617, 1.9542, 1.8949]])"
      ]
     },
     "execution_count": 6,
     "metadata": {},
     "output_type": "execute_result"
    }
   ],
   "source": [
    "torch.rand((3, 3)) + torch.ones(1)"
   ]
  },
  {
   "cell_type": "code",
   "execution_count": null,
   "id": "db8a6eb5",
   "metadata": {},
   "outputs": [],
   "source": []
  }
 ],
 "metadata": {
  "kernelspec": {
   "display_name": "Python 3 (ipykernel)",
   "language": "python",
   "name": "python3"
  },
  "language_info": {
   "codemirror_mode": {
    "name": "ipython",
    "version": 3
   },
   "file_extension": ".py",
   "mimetype": "text/x-python",
   "name": "python",
   "nbconvert_exporter": "python",
   "pygments_lexer": "ipython3",
   "version": "3.9.7"
  }
 },
 "nbformat": 4,
 "nbformat_minor": 5
}
